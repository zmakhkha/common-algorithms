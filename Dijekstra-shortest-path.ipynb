{
  "nbformat": 4,
  "nbformat_minor": 0,
  "metadata": {
    "colab": {
      "provenance": []
    },
    "kernelspec": {
      "name": "python3",
      "display_name": "Python 3"
    },
    "language_info": {
      "name": "python"
    }
  },
  "cells": [
    {
      "cell_type": "code",
      "execution_count": 1,
      "metadata": {
        "id": "-Le6jU1v-KYG"
      },
      "outputs": [],
      "source": [
        "import numpy as np"
      ]
    },
    {
      "cell_type": "code",
      "source": [
        "def find_shortest_path(adj_matrix, source, target):\n",
        "    num_nodes = len(adj_matrix)\n",
        "    matrix_power = np.array(adj_matrix)\n",
        "    k = 1\n",
        "    while matrix_power[source][target] == 0 and k < num_nodes:\n",
        "        matrix_power = np.dot(matrix_power, adj_matrix)\n",
        "        k += 1\n",
        "\n",
        "    if matrix_power[source][target] == 0:\n",
        "        return float('inf')\n",
        "    else:\n",
        "        return k"
      ],
      "metadata": {
        "id": "K6U0GdTV-LSc"
      },
      "execution_count": 2,
      "outputs": []
    },
    {
      "cell_type": "code",
      "source": [
        "# adjacency matrix of the graph\n",
        "graph = [\n",
        "    [0, 1, 0, 0, 0],\n",
        "    [1, 0, 1, 0, 0],\n",
        "    [0, 1, 0, 1, 1],\n",
        "    [0, 0, 1, 0, 0],\n",
        "    [0, 0, 1, 0, 0]\n",
        "]\n",
        "\n",
        "source_node = 0\n",
        "target_node = 4\n",
        "\n",
        "shortest_distance = find_shortest_path(graph, source_node, target_node)"
      ],
      "metadata": {
        "id": "rqE32Sio-Mrr"
      },
      "execution_count": 5,
      "outputs": []
    },
    {
      "cell_type": "code",
      "source": [
        "print(\"Shortest distance between {} and {}: {}\".format(source_node, target_node, shortest_distance))"
      ],
      "metadata": {
        "colab": {
          "base_uri": "https://localhost:8080/"
        },
        "id": "xONA270H-OcF",
        "outputId": "5c8c9a4c-ebba-4b9a-8a72-8593930855fe"
      },
      "execution_count": 6,
      "outputs": [
        {
          "output_type": "stream",
          "name": "stdout",
          "text": [
            "Shortest distance between 0 and 4: 3\n"
          ]
        }
      ]
    }
  ]
}